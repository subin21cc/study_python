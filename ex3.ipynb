{
 "cells": [
  {
   "cell_type": "code",
   "execution_count": 7,
   "metadata": {
    "collapsed": true
   },
   "outputs": [
    {
     "name": "stdout",
     "output_type": "stream",
     "text": [
      "동윤 님은 놀이기구를 탈 수 있습니다.\n"
     ]
    }
   ],
   "source": [
    "# 2\n",
    "name = input('이름을 입력하시오 :')\n",
    "height = int(input('키를 입력하시오(단위 cm)'))\n",
    "if height < 140:\n",
    "    print(name, '님은 놀이기구를 탈 수 없습니다.')\n",
    "else:\n",
    "    print(name, '님은 놀이기구를 탈 수 있습니다.')"
   ]
  },
  {
   "cell_type": "code",
   "execution_count": 2,
   "outputs": [
    {
     "name": "stdout",
     "output_type": "stream",
     "text": [
      "입장할 수 없습니다.\n"
     ]
    }
   ],
   "source": [
    "# 3\n",
    "age = int(input('나이를 입력하시오 :'))\n",
    "height = int(input('키를 입력하시오(단위 cm)'))\n",
    "if age >= 19 and height >= 150:\n",
    "    print('입장할 수 있습니다.')\n",
    "else:\n",
    "    print('입장할 수 없습니다.')"
   ],
   "metadata": {
    "collapsed": false
   }
  },
  {
   "cell_type": "code",
   "execution_count": 5,
   "outputs": [
    {
     "name": "stdout",
     "output_type": "stream",
     "text": [
      "Kid\n"
     ]
    }
   ],
   "source": [
    "# 4\n",
    "age = int(input('나이를 입력하시오 :'))\n",
    "if age >= 20:\n",
    "    print('Adult')\n",
    "elif 10 <= age < 20:\n",
    "    print('Youth')\n",
    "else:\n",
    "    print('Kid')"
   ],
   "metadata": {
    "collapsed": false
   }
  },
  {
   "cell_type": "code",
   "execution_count": 27,
   "outputs": [
    {
     "name": "stdout",
     "output_type": "stream",
     "text": [
      "9 10\n"
     ]
    }
   ],
   "source": [
    "# 5\n",
    "num1 , num2 = map(int, input('두 정수를 입력하시오 :').split())\n",
    "if num1 <= num2:\n",
    "    print(num1, num2)\n",
    "else:\n",
    "    print(num2, num1)"
   ],
   "metadata": {
    "collapsed": false
   }
  },
  {
   "cell_type": "code",
   "execution_count": 36,
   "outputs": [
    {
     "name": "stdout",
     "output_type": "stream",
     "text": [
      "3 6 9\n"
     ]
    }
   ],
   "source": [
    "# 6 **\n",
    "num1, num2, num3 = map(int, input('세 정수를 입력하시오 :').split())\n",
    "\n",
    "if num1 > num2:\n",
    "    if num2 > num3:\n",
    "        print(num3, num2, num1)\n",
    "    else:\n",
    "        if num3 < num1:\n",
    "            print(num2, num3, num1)\n",
    "        else:\n",
    "            print(num2, num1, num3)\n",
    "else:\n",
    "    if num1 > num3:\n",
    "        print(num3, num1, num2)\n",
    "    else:\n",
    "        if num3 < num2:\n",
    "            print(num1, num3, num2)\n",
    "        else:\n",
    "            print(num1, num2, num3)"
   ],
   "metadata": {
    "collapsed": false
   }
  },
  {
   "cell_type": "code",
   "execution_count": 37,
   "outputs": [
    {
     "name": "stdout",
     "output_type": "stream",
     "text": [
      "입문자입니다.\n"
     ]
    }
   ],
   "source": [
    "# 7\n",
    "game_score = int(input('게임점수를 입력하시오 :'))\n",
    "if game_score >= 1000:\n",
    "    print('고수입니다.')\n",
    "else:\n",
    "    print('입문자입니다.')"
   ],
   "metadata": {
    "collapsed": false
   }
  },
  {
   "cell_type": "code",
   "execution_count": 17,
   "outputs": [
    {
     "name": "stdout",
     "output_type": "stream",
     "text": [
      "3사분면에 있음\n"
     ]
    }
   ],
   "source": [
    "# 8\n",
    "# map*\n",
    "x, y = map(int, input('점의 좌표 x, y를 입력하시오 :').split())\n",
    "if x > 0 and y > 0:\n",
    "    print('1사분면에 있음')\n",
    "elif x < 0 and y > 0:\n",
    "    print('2사분면에 있음')\n",
    "elif x < 0 and y < 0:\n",
    "    print('3사분면에 있음')\n",
    "elif x > 0 and y < 0:\n",
    "    print('4사분면에 있음')\n",
    "else:\n",
    "    print('x축 혹은 y축에 있음')"
   ],
   "metadata": {
    "collapsed": false
   }
  },
  {
   "cell_type": "code",
   "execution_count": 18,
   "outputs": [
    {
     "name": "stdout",
     "output_type": "stream",
     "text": [
      "15 은(는) 2(으)로 나누어지지 않습니다.\n",
      "15 는(은) 3(으)로 나누어집니다.\n",
      "15 은(는) 2와(과) 3 모두로 나누어지지 않습니다.\n"
     ]
    }
   ],
   "source": [
    "num = int(input('정수를 입력하시오 :'))\n",
    "if num % 2 == 0:\n",
    "    print(num, '는(은) 2(으)로 나누어집니다.')\n",
    "else:\n",
    "    print(num, '은(는) 2(으)로 나누어지지 않습니다.')\n",
    "\n",
    "if num % 3 == 0:\n",
    "    print(num, '는(은) 3(으)로 나누어집니다.')\n",
    "else:\n",
    "    print(num, '은(는) 3(으)로 나누어지지 않습니다.')\n",
    "\n",
    "if num % 2 == 0 and num % 3 == 0:\n",
    "    print(num, '는(은) 2와(과) 3 모두로 나누어집니다.')\n",
    "else:\n",
    "    print(num, '은(는) 2와(과) 3 모두로 나누어지지 않습니다.')"
   ],
   "metadata": {
    "collapsed": false
   }
  },
  {
   "cell_type": "code",
   "execution_count": 20,
   "outputs": [
    {
     "name": "stdout",
     "output_type": "stream",
     "text": [
      "125 는(은) 52 의 배수가 아닙니다.\n"
     ]
    }
   ],
   "source": [
    "# 10\n",
    "a,b = map(int, input('두 정수를 입력하시오 :').split())\n",
    "if a % b == 0:\n",
    "    print(a, '는(은)', b, '의 배수입니다.')\n",
    "else:\n",
    "    print(a, '는(은)', b, '의 배수가 아닙니다.')"
   ],
   "metadata": {
    "collapsed": false
   }
  },
  {
   "cell_type": "code",
   "execution_count": 41,
   "outputs": [
    {
     "name": "stdout",
     "output_type": "stream",
     "text": [
      "259 는 소수가 아닙니다.\n"
     ]
    }
   ],
   "source": [
    "# 21\n",
    "n = int(input('숫자를 입력하세요 :'))\n",
    "prime = True\n",
    "\n",
    "for i in range(2, n):\n",
    "    if n % i == 0:\n",
    "        prime = False\n",
    "\n",
    "if prime:\n",
    "    print(n, '는 소수입니다.')\n",
    "else:\n",
    "    print(n, '는 소수가 아닙니다.')"
   ],
   "metadata": {
    "collapsed": false,
    "pycharm": {
     "name": "#%% \n"
    }
   }
  },
  {
   "cell_type": "code",
   "execution_count": null,
   "outputs": [],
   "source": [],
   "metadata": {
    "collapsed": false,
    "pycharm": {
     "is_executing": true
    }
   }
  }
 ],
 "metadata": {
  "kernelspec": {
   "display_name": "Python 3",
   "language": "python",
   "name": "python3"
  },
  "language_info": {
   "codemirror_mode": {
    "name": "ipython",
    "version": 2
   },
   "file_extension": ".py",
   "mimetype": "text/x-python",
   "name": "python",
   "nbconvert_exporter": "python",
   "pygments_lexer": "ipython2",
   "version": "2.7.6"
  }
 },
 "nbformat": 4,
 "nbformat_minor": 0
}
