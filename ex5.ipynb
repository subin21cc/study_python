{
 "cells": [
  {
   "cell_type": "code",
   "execution_count": null,
   "outputs": [],
   "source": [],
   "metadata": {
    "collapsed": false
   }
  },
  {
   "cell_type": "code",
   "execution_count": 1,
   "metadata": {
    "collapsed": true
   },
   "outputs": [
    {
     "name": "stdout",
     "output_type": "stream",
     "text": [
      "3 * 2 = 6\n",
      "3 * 3 = 9\n",
      "3 * 4 = 12\n",
      "3 * 5 = 15\n",
      "3 * 6 = 18\n",
      "5 * 2 = 10\n",
      "5 * 3 = 15\n",
      "5 * 4 = 20\n",
      "5 * 5 = 25\n",
      "5 * 6 = 30\n",
      "7 * 2 = 14\n",
      "7 * 3 = 21\n",
      "7 * 4 = 28\n",
      "7 * 5 = 35\n",
      "7 * 6 = 42\n"
     ]
    }
   ],
   "source": [
    "# 5.3\n",
    "list1 = [3 ,5 ,7]\n",
    "list2 = [2, 3, 4, 5, 6]\n",
    "\n",
    "for n1 in list1:\n",
    "    for n2 in list2:\n",
    "        print(n1, '*', n2, '=', n1 * n2)"
   ]
  },
  {
   "cell_type": "code",
   "execution_count": 15,
   "outputs": [
    {
     "data": {
      "text/plain": "[6, 5, 4, 3, 2]"
     },
     "execution_count": 15,
     "metadata": {},
     "output_type": "execute_result"
    }
   ],
   "source": [
    "# 5.4\n",
    "a = [2, 3, 4, 5, 6]\n",
    "len_a = len(a)\n",
    "for i in range(len_a):\n",
    "    a.insert(len_a - i - 1, a.pop(0))\n",
    "\n",
    "\n",
    "a"
   ],
   "metadata": {
    "collapsed": false
   }
  },
  {
   "cell_type": "code",
   "execution_count": 16,
   "outputs": [],
   "source": [
    "a.reverse()"
   ],
   "metadata": {
    "collapsed": false
   }
  },
  {
   "cell_type": "code",
   "execution_count": 17,
   "outputs": [
    {
     "data": {
      "text/plain": "[2, 3, 4, 5, 6]"
     },
     "execution_count": 17,
     "metadata": {},
     "output_type": "execute_result"
    }
   ],
   "source": [
    "a"
   ],
   "metadata": {
    "collapsed": false
   }
  },
  {
   "cell_type": "code",
   "execution_count": 23,
   "outputs": [
    {
     "name": "stdout",
     "output_type": "stream",
     "text": [
      "I like pancakes.\n",
      "I like kiwi juice.\n",
      "I like espresso.\n",
      "I love pancakes.\n",
      "I love kiwi juice.\n",
      "I love espresso.\n"
     ]
    }
   ],
   "source": [
    "# 5.5\n",
    "list1 = ['I like', 'I love']\n",
    "list2 = ['pancakes.', 'kiwi juice.', 'espresso.']\n",
    "\n",
    "for i in range(len(list1)):\n",
    "    for j in range(len(list2)):\n",
    "        print(list1[i], list2[j])"
   ],
   "metadata": {
    "collapsed": false
   }
  },
  {
   "cell_type": "code",
   "execution_count": 26,
   "outputs": [
    {
     "name": "stdout",
     "output_type": "stream",
     "text": [
      "170\n"
     ]
    }
   ],
   "source": [
    "# 5.7\n",
    "n_list = [10, 20, 30, 50, 60]\n",
    "n_sum = 0\n",
    "\n",
    "for i in range(len(n_list)):\n",
    "    n_sum += n_list[i]\n",
    "\n",
    "print(n_sum)"
   ],
   "metadata": {
    "collapsed": false
   }
  },
  {
   "cell_type": "code",
   "execution_count": 29,
   "outputs": [
    {
     "name": "stdout",
     "output_type": "stream",
     "text": [
      "18000000\n"
     ]
    }
   ],
   "source": [
    "# 5.8\n",
    "n_mul = 1\n",
    "\n",
    "for i in range(len(n_list)):\n",
    "    n_mul *= n_list[i]\n",
    "\n",
    "print(n_mul)"
   ],
   "metadata": {
    "collapsed": false
   }
  },
  {
   "cell_type": "code",
   "execution_count": 31,
   "outputs": [
    {
     "name": "stdout",
     "output_type": "stream",
     "text": [
      "60\n"
     ]
    }
   ],
   "source": [
    "# 5.9\n",
    "n_max = n_list[0]\n",
    "\n",
    "for i in range(1,len(n_list)):\n",
    "    if n_list[i] > n_max:\n",
    "        n_max = n_list[i]\n",
    "\n",
    "print(n_max)"
   ],
   "metadata": {
    "collapsed": false
   }
  },
  {
   "cell_type": "code",
   "execution_count": 33,
   "outputs": [
    {
     "name": "stdout",
     "output_type": "stream",
     "text": [
      "10\n"
     ]
    }
   ],
   "source": [
    "# 5.10\n",
    "n_min = n_list[0]\n",
    "\n",
    "for i in range(1,len(n_list)):\n",
    "    if n_list[i] < n_min:\n",
    "        n_min = n_list[i]\n",
    "\n",
    "print(n_min)"
   ],
   "metadata": {
    "collapsed": false
   }
  },
  {
   "cell_type": "code",
   "execution_count": 37,
   "outputs": [
    {
     "name": "stdout",
     "output_type": "stream",
     "text": [
      "합 : 168\n",
      "평균 : 33.6\n",
      "최댓값 : 67\n",
      "최솟값 : 2\n"
     ]
    }
   ],
   "source": [
    "# 5.11\n",
    "a, b, c, d, e = map(int, input('5개의 수를 입력하세요 :').split())\n",
    "n_list2 = [a, b, c, d, e]\n",
    "\n",
    "print('합 :', sum(n_list2))\n",
    "print('평균 :', sum(n_list2)/len(n_list))\n",
    "print('최댓값 :', max(n_list2))\n",
    "print('최솟값 :', min(n_list2))"
   ],
   "metadata": {
    "collapsed": false
   }
  },
  {
   "cell_type": "code",
   "execution_count": 44,
   "outputs": [
    {
     "name": "stdout",
     "output_type": "stream",
     "text": [
      "['dog', 'cat', 'tiger', 'lion']\n"
     ]
    }
   ],
   "source": [
    "# 5.17 (1)\n",
    "animal = ['dog', 'cat', 'tiger', 'lion']\n",
    "print(animal)"
   ],
   "metadata": {
    "collapsed": false
   }
  },
  {
   "cell_type": "code",
   "execution_count": 43,
   "outputs": [
    {
     "name": "stdout",
     "output_type": "stream",
     "text": [
      "['cat', 'tiger', 'lion', 'dog']\n"
     ]
    }
   ],
   "source": [
    "# 5.17 (2)\n",
    "animal.append(animal.pop(0))\n",
    "print(animal)"
   ],
   "metadata": {
    "collapsed": false
   }
  },
  {
   "cell_type": "code",
   "execution_count": 46,
   "outputs": [],
   "source": [
    "animal = animal[1:] + animal[:1]"
   ],
   "metadata": {
    "collapsed": false
   }
  },
  {
   "cell_type": "code",
   "execution_count": 47,
   "outputs": [
    {
     "name": "stdout",
     "output_type": "stream",
     "text": [
      "['cat', 'tiger', 'lion', 'dog']\n"
     ]
    }
   ],
   "source": [
    "print(animal)"
   ],
   "metadata": {
    "collapsed": false
   }
  },
  {
   "cell_type": "code",
   "execution_count": 48,
   "outputs": [
    {
     "name": "stdout",
     "output_type": "stream",
     "text": [
      "I love cat\n",
      "I love tiger\n",
      "I love lion\n",
      "I love dog\n"
     ]
    }
   ],
   "source": [
    "# 5.17 (3)\n",
    "for i in range(len(animal)):\n",
    "    print('I love', animal[i])"
   ],
   "metadata": {
    "collapsed": false
   }
  },
  {
   "cell_type": "code",
   "execution_count": 50,
   "outputs": [
    {
     "name": "stdout",
     "output_type": "stream",
     "text": [
      "I love cat\n",
      "I love tiger\n",
      "I love lion\n",
      "I love dog\n"
     ]
    }
   ],
   "source": [
    "# 5.17 (3)\n",
    "for one in animal:\n",
    "    print('I love', one)"
   ],
   "metadata": {
    "collapsed": false
   }
  },
  {
   "cell_type": "code",
   "execution_count": 12,
   "outputs": [
    {
     "name": "stdout",
     "output_type": "stream",
     "text": [
      "가장 길이가 짧은 문자열 : abc\n"
     ]
    }
   ],
   "source": [
    "# 5.18 (1)\n",
    "s_list = ['abc', 'bcd', 'bcdefg', 'abba', 'cddc', 'opq']\n",
    "min_len = len(s_list[0])\n",
    "min_str = s_list[0]\n",
    "\n",
    "for one in s_list:\n",
    "    if len(one) < min_len:\n",
    "        min_len = len(one)\n",
    "        min_str = one\n",
    "\n",
    "print('가장 길이가 짧은 문자열 :', min_str)"
   ],
   "metadata": {
    "collapsed": false
   }
  },
  {
   "cell_type": "code",
   "execution_count": 1,
   "outputs": [
    {
     "data": {
      "text/plain": "6"
     },
     "execution_count": 1,
     "metadata": {},
     "output_type": "execute_result"
    }
   ],
   "source": [
    "s_list = ['abc', 'bcd', 'bcdefg', 'abba', 'cddc', 'opq']\n",
    "\n",
    "len(s_list)"
   ],
   "metadata": {
    "collapsed": false
   }
  },
  {
   "cell_type": "code",
   "execution_count": 2,
   "outputs": [
    {
     "data": {
      "text/plain": "3"
     },
     "execution_count": 2,
     "metadata": {},
     "output_type": "execute_result"
    }
   ],
   "source": [
    "len(s_list[0])"
   ],
   "metadata": {
    "collapsed": false
   }
  },
  {
   "cell_type": "code",
   "execution_count": 13,
   "outputs": [
    {
     "name": "stdout",
     "output_type": "stream",
     "text": [
      "가장 길이가 긴 문자열 : bcdefg\n"
     ]
    }
   ],
   "source": [
    "# 5.18 (2)\n",
    "max_len = len(s_list[0])\n",
    "max_str = s_list[0]\n",
    "\n",
    "for one in s_list:\n",
    "    if len(one) > max_len:\n",
    "        max_len = len(one)\n",
    "        max_str = one\n",
    "\n",
    "print('가장 길이가 긴 문자열 :', max_str)"
   ],
   "metadata": {
    "collapsed": false
   }
  },
  {
   "cell_type": "code",
   "execution_count": null,
   "outputs": [],
   "source": [
    "# 5.18 (3)\n"
   ],
   "metadata": {
    "collapsed": false
   }
  },
  {
   "cell_type": "code",
   "execution_count": 14,
   "outputs": [],
   "source": [
    "s_list.sort(key=len)"
   ],
   "metadata": {
    "collapsed": false
   }
  },
  {
   "cell_type": "code",
   "execution_count": 15,
   "outputs": [
    {
     "name": "stdout",
     "output_type": "stream",
     "text": [
      "['abc', 'bcd', 'opq', 'abba', 'cddc', 'bcdefg']\n"
     ]
    }
   ],
   "source": [
    "print(s_list)"
   ],
   "metadata": {
    "collapsed": false
   }
  },
  {
   "cell_type": "code",
   "execution_count": 25,
   "outputs": [
    {
     "name": "stdout",
     "output_type": "stream",
     "text": [
      "가장 길이가 짧은 문자열 : 'abc', 'bcd', 'opq'"
     ]
    }
   ],
   "source": [
    "print('가장 길이가 짧은 문자열 :', end=' ')\n",
    "print(\"'{}'\".format(s_list[0]), end='')\n",
    "\n",
    "for i in range(1, len(s_list)-1):\n",
    "    if len(s_list[0]) == len(s_list[i]):\n",
    "        print(\", '{}'\".format(s_list[i]), end='')"
   ],
   "metadata": {
    "collapsed": false
   }
  },
  {
   "cell_type": "code",
   "execution_count": 30,
   "outputs": [
    {
     "name": "stdout",
     "output_type": "stream",
     "text": [
      "가장 길이가 짧은 문자열 : 'abc', 'bcd', 'opq'\n"
     ]
    }
   ],
   "source": [
    "min_count = 0\n",
    "for one in s_list:\n",
    "    if len(s_list[0]) == len(one):\n",
    "        min_count += 1\n",
    "    else:\n",
    "        break\n",
    "\n",
    "s_list = s_list[:min_count]\n",
    "print(\"가장 길이가 짧은 문자열 : '{}'\".format(\"', '\".join(s_list)))"
   ],
   "metadata": {
    "collapsed": false
   }
  },
  {
   "cell_type": "code",
   "execution_count": 2,
   "outputs": [
    {
     "name": "stdout",
     "output_type": "stream",
     "text": [
      "['abc', 'bcd', 'abba', 'cddc', 'opq']\n"
     ]
    }
   ],
   "source": [
    "# 5.19\n",
    "s_list = ['abc', 'bcd', 'abc', 'abba', 'cddc', 'opq', 'opq']\n",
    "new_s_list = []\n",
    "\n",
    "for one in s_list:\n",
    "    if one not in new_s_list:\n",
    "        new_s_list.append(one)\n",
    "\n",
    "print(new_s_list)"
   ],
   "metadata": {
    "collapsed": false
   }
  },
  {
   "cell_type": "code",
   "execution_count": 23,
   "outputs": [
    {
     "name": "stdout",
     "output_type": "stream",
     "text": [
      "a4b2\n",
      "a413\n"
     ]
    }
   ],
   "source": [
    "# 5.20\n",
    "def compress(s):\n",
    "    result = ''\n",
    "    count = 1\n",
    "    prev_ch = ''\n",
    "\n",
    "    for ch in s:\n",
    "        if ch == prev_ch:\n",
    "            count += 1\n",
    "        else:\n",
    "            if prev_ch != '':\n",
    "                result += str(count)\n",
    "            result += ch\n",
    "            count = 1\n",
    "\n",
    "        prev_ch = ch\n",
    "    result += str(count)\n",
    "    return result\n",
    "\n",
    "print(compress('aaaabb'))\n",
    "print(compress('aaaa111'))"
   ],
   "metadata": {
    "collapsed": false
   }
  },
  {
   "cell_type": "code",
   "execution_count": 3,
   "outputs": [
    {
     "data": {
      "text/plain": "'123'"
     },
     "execution_count": 3,
     "metadata": {},
     "output_type": "execute_result"
    }
   ],
   "source": [
    "str(123)"
   ],
   "metadata": {
    "collapsed": false
   }
  },
  {
   "cell_type": "code",
   "execution_count": 5,
   "outputs": [
    {
     "data": {
      "text/plain": "'123234'"
     },
     "execution_count": 5,
     "metadata": {},
     "output_type": "execute_result"
    }
   ],
   "source": [
    "abc = '123' + '234'\n",
    "abc"
   ],
   "metadata": {
    "collapsed": false
   }
  },
  {
   "cell_type": "code",
   "execution_count": 38,
   "outputs": [
    {
     "name": "stdout",
     "output_type": "stream",
     "text": [
      "aabbbcccccc\n"
     ]
    }
   ],
   "source": [
    "# 5.21\n",
    "def decompress(s):\n",
    "    result = ''\n",
    "    for i in range(0,len(s),2):\n",
    "        result += s[i] * int(s[i+1])\n",
    "\n",
    "    return result\n",
    "print(decompress('a2b3c6'))"
   ],
   "metadata": {
    "collapsed": false
   }
  },
  {
   "cell_type": "code",
   "execution_count": 34,
   "outputs": [
    {
     "name": "stdout",
     "output_type": "stream",
     "text": [
      "aa\n"
     ]
    }
   ],
   "source": [
    "print('a' * 2)"
   ],
   "metadata": {
    "collapsed": false
   }
  },
  {
   "cell_type": "code",
   "execution_count": 29,
   "outputs": [
    {
     "name": "stdout",
     "output_type": "stream",
     "text": [
      "4\n"
     ]
    }
   ],
   "source": [
    "a = 'a2b3'\n",
    "print(len(a))"
   ],
   "metadata": {
    "collapsed": false
   }
  },
  {
   "cell_type": "code",
   "execution_count": null,
   "outputs": [],
   "source": [
    "# 5.22 (1)\n",
    "def print_n_matrix(n):\n",
    "\n",
    "\n",
    "print_n_matrix(5)"
   ],
   "metadata": {
    "collapsed": false
   }
  },
  {
   "cell_type": "code",
   "execution_count": null,
   "outputs": [],
   "source": [
    "# 5.22 (2)_리스트 슬라이싱 활용O\n",
    "def print_n_matrix2(n):\n",
    "\n",
    "\n",
    "print_n_matrix2(6)"
   ],
   "metadata": {
    "collapsed": false
   }
  },
  {
   "cell_type": "code",
   "execution_count": null,
   "outputs": [],
   "source": [
    "# 5.23 (1)\n",
    "person1 = ['온달', 20, 1, 180.0, 100.0]\n",
    "person2 = ['이사부', 25, 1, 170.0, 70.0]\n",
    "person3 = ['평강', 22, 0, 169.0, 60.0]\n",
    "person4 = ['혁거세', 40, 1, 150.0, 50.0]"
   ],
   "metadata": {
    "collapsed": false
   }
  }
 ],
 "metadata": {
  "kernelspec": {
   "display_name": "Python 3",
   "language": "python",
   "name": "python3"
  },
  "language_info": {
   "codemirror_mode": {
    "name": "ipython",
    "version": 2
   },
   "file_extension": ".py",
   "mimetype": "text/x-python",
   "name": "python",
   "nbconvert_exporter": "python",
   "pygments_lexer": "ipython2",
   "version": "2.7.6"
  }
 },
 "nbformat": 4,
 "nbformat_minor": 0
}
