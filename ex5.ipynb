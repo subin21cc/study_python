{
 "cells": [
  {
   "cell_type": "code",
   "execution_count": null,
   "outputs": [],
   "source": [],
   "metadata": {
    "collapsed": false
   }
  },
  {
   "cell_type": "code",
   "execution_count": 1,
   "metadata": {
    "collapsed": true
   },
   "outputs": [
    {
     "name": "stdout",
     "output_type": "stream",
     "text": [
      "3 * 2 = 6\n",
      "3 * 3 = 9\n",
      "3 * 4 = 12\n",
      "3 * 5 = 15\n",
      "3 * 6 = 18\n",
      "5 * 2 = 10\n",
      "5 * 3 = 15\n",
      "5 * 4 = 20\n",
      "5 * 5 = 25\n",
      "5 * 6 = 30\n",
      "7 * 2 = 14\n",
      "7 * 3 = 21\n",
      "7 * 4 = 28\n",
      "7 * 5 = 35\n",
      "7 * 6 = 42\n"
     ]
    }
   ],
   "source": [
    "# 5.3\n",
    "list1 = [3 ,5 ,7]\n",
    "list2 = [2, 3, 4, 5, 6]\n",
    "\n",
    "for n1 in list1:\n",
    "    for n2 in list2:\n",
    "        print(n1, '*', n2, '=', n1 * n2)"
   ]
  },
  {
   "cell_type": "code",
   "execution_count": 15,
   "outputs": [
    {
     "data": {
      "text/plain": "[6, 5, 4, 3, 2]"
     },
     "execution_count": 15,
     "metadata": {},
     "output_type": "execute_result"
    }
   ],
   "source": [
    "# 5.4\n",
    "a = [2, 3, 4, 5, 6]\n",
    "len_a = len(a)\n",
    "for i in range(len_a):\n",
    "    a.insert(len_a - i - 1, a.pop(0))\n",
    "\n",
    "\n",
    "a"
   ],
   "metadata": {
    "collapsed": false
   }
  },
  {
   "cell_type": "code",
   "execution_count": 16,
   "outputs": [],
   "source": [
    "a.reverse()"
   ],
   "metadata": {
    "collapsed": false
   }
  },
  {
   "cell_type": "code",
   "execution_count": 17,
   "outputs": [
    {
     "data": {
      "text/plain": "[2, 3, 4, 5, 6]"
     },
     "execution_count": 17,
     "metadata": {},
     "output_type": "execute_result"
    }
   ],
   "source": [
    "a"
   ],
   "metadata": {
    "collapsed": false
   }
  },
  {
   "cell_type": "code",
   "execution_count": 23,
   "outputs": [
    {
     "name": "stdout",
     "output_type": "stream",
     "text": [
      "I like pancakes.\n",
      "I like kiwi juice.\n",
      "I like espresso.\n",
      "I love pancakes.\n",
      "I love kiwi juice.\n",
      "I love espresso.\n"
     ]
    }
   ],
   "source": [
    "# 5.5\n",
    "list1 = ['I like', 'I love']\n",
    "list2 = ['pancakes.', 'kiwi juice.', 'espresso.']\n",
    "\n",
    "for i in range(len(list1)):\n",
    "    for j in range(len(list2)):\n",
    "        print(list1[i], list2[j])"
   ],
   "metadata": {
    "collapsed": false
   }
  },
  {
   "cell_type": "code",
   "execution_count": 26,
   "outputs": [
    {
     "name": "stdout",
     "output_type": "stream",
     "text": [
      "170\n"
     ]
    }
   ],
   "source": [
    "# 5.7\n",
    "n_list = [10, 20, 30, 50, 60]\n",
    "n_sum = 0\n",
    "\n",
    "for i in range(len(n_list)):\n",
    "    n_sum += n_list[i]\n",
    "\n",
    "print(n_sum)"
   ],
   "metadata": {
    "collapsed": false
   }
  },
  {
   "cell_type": "code",
   "execution_count": 29,
   "outputs": [
    {
     "name": "stdout",
     "output_type": "stream",
     "text": [
      "18000000\n"
     ]
    }
   ],
   "source": [
    "# 5.8\n",
    "n_mul = 1\n",
    "\n",
    "for i in range(len(n_list)):\n",
    "    n_mul *= n_list[i]\n",
    "\n",
    "print(n_mul)"
   ],
   "metadata": {
    "collapsed": false
   }
  },
  {
   "cell_type": "code",
   "execution_count": 31,
   "outputs": [
    {
     "name": "stdout",
     "output_type": "stream",
     "text": [
      "60\n"
     ]
    }
   ],
   "source": [
    "# 5.9\n",
    "n_max = n_list[0]\n",
    "\n",
    "for i in range(1,len(n_list)):\n",
    "    if n_list[i] > n_max:\n",
    "        n_max = n_list[i]\n",
    "\n",
    "print(n_max)"
   ],
   "metadata": {
    "collapsed": false
   }
  },
  {
   "cell_type": "code",
   "execution_count": 33,
   "outputs": [
    {
     "name": "stdout",
     "output_type": "stream",
     "text": [
      "10\n"
     ]
    }
   ],
   "source": [
    "# 5.10\n",
    "n_min = n_list[0]\n",
    "\n",
    "for i in range(1,len(n_list)):\n",
    "    if n_list[i] < n_min:\n",
    "        n_min = n_list[i]\n",
    "\n",
    "print(n_min)"
   ],
   "metadata": {
    "collapsed": false
   }
  },
  {
   "cell_type": "code",
   "execution_count": 37,
   "outputs": [
    {
     "name": "stdout",
     "output_type": "stream",
     "text": [
      "합 : 168\n",
      "평균 : 33.6\n",
      "최댓값 : 67\n",
      "최솟값 : 2\n"
     ]
    }
   ],
   "source": [
    "# 5.11\n",
    "a, b, c, d, e = map(int, input('5개의 수를 입력하세요 :').split())\n",
    "n_list2 = [a, b, c, d, e]\n",
    "\n",
    "print('합 :', sum(n_list2))\n",
    "print('평균 :', sum(n_list2)/len(n_list))\n",
    "print('최댓값 :', max(n_list2))\n",
    "print('최솟값 :', min(n_list2))"
   ],
   "metadata": {
    "collapsed": false
   }
  },
  {
   "cell_type": "code",
   "execution_count": 44,
   "outputs": [
    {
     "name": "stdout",
     "output_type": "stream",
     "text": [
      "['dog', 'cat', 'tiger', 'lion']\n"
     ]
    }
   ],
   "source": [
    "# 5.17 (1)\n",
    "animal = ['dog', 'cat', 'tiger', 'lion']\n",
    "print(animal)"
   ],
   "metadata": {
    "collapsed": false
   }
  },
  {
   "cell_type": "code",
   "execution_count": 43,
   "outputs": [
    {
     "name": "stdout",
     "output_type": "stream",
     "text": [
      "['cat', 'tiger', 'lion', 'dog']\n"
     ]
    }
   ],
   "source": [
    "# 5.17 (2)\n",
    "animal.append(animal.pop(0))\n",
    "print(animal)"
   ],
   "metadata": {
    "collapsed": false
   }
  },
  {
   "cell_type": "code",
   "execution_count": 46,
   "outputs": [],
   "source": [
    "animal = animal[1:] + animal[:1]"
   ],
   "metadata": {
    "collapsed": false
   }
  },
  {
   "cell_type": "code",
   "execution_count": 47,
   "outputs": [
    {
     "name": "stdout",
     "output_type": "stream",
     "text": [
      "['cat', 'tiger', 'lion', 'dog']\n"
     ]
    }
   ],
   "source": [
    "print(animal)"
   ],
   "metadata": {
    "collapsed": false
   }
  },
  {
   "cell_type": "code",
   "execution_count": 48,
   "outputs": [
    {
     "name": "stdout",
     "output_type": "stream",
     "text": [
      "I love cat\n",
      "I love tiger\n",
      "I love lion\n",
      "I love dog\n"
     ]
    }
   ],
   "source": [
    "# 5.17 (3)\n",
    "for i in range(len(animal)):\n",
    "    print('I love', animal[i])"
   ],
   "metadata": {
    "collapsed": false
   }
  },
  {
   "cell_type": "code",
   "execution_count": 50,
   "outputs": [
    {
     "name": "stdout",
     "output_type": "stream",
     "text": [
      "I love cat\n",
      "I love tiger\n",
      "I love lion\n",
      "I love dog\n"
     ]
    }
   ],
   "source": [
    "# 5.17 (3)\n",
    "for one in animal:\n",
    "    print('I love', one)"
   ],
   "metadata": {
    "collapsed": false
   }
  },
  {
   "cell_type": "code",
   "execution_count": 12,
   "outputs": [
    {
     "name": "stdout",
     "output_type": "stream",
     "text": [
      "가장 길이가 짧은 문자열 : abc\n"
     ]
    }
   ],
   "source": [
    "# 5.18 (1)\n",
    "s_list = ['abc', 'bcd', 'bcdefg', 'abba', 'cddc', 'opq']\n",
    "min_len = len(s_list[0])\n",
    "min_str = s_list[0]\n",
    "\n",
    "for one in s_list:\n",
    "    if len(one) < min_len:\n",
    "        min_len = len(one)\n",
    "        min_str = one\n",
    "\n",
    "print('가장 길이가 짧은 문자열 :', min_str)"
   ],
   "metadata": {
    "collapsed": false
   }
  },
  {
   "cell_type": "code",
   "execution_count": 1,
   "outputs": [
    {
     "data": {
      "text/plain": "6"
     },
     "execution_count": 1,
     "metadata": {},
     "output_type": "execute_result"
    }
   ],
   "source": [
    "s_list = ['abc', 'bcd', 'bcdefg', 'abba', 'cddc', 'opq']\n",
    "\n",
    "len(s_list)"
   ],
   "metadata": {
    "collapsed": false
   }
  },
  {
   "cell_type": "code",
   "execution_count": 2,
   "outputs": [
    {
     "data": {
      "text/plain": "3"
     },
     "execution_count": 2,
     "metadata": {},
     "output_type": "execute_result"
    }
   ],
   "source": [
    "len(s_list[0])"
   ],
   "metadata": {
    "collapsed": false
   }
  },
  {
   "cell_type": "code",
   "execution_count": 13,
   "outputs": [
    {
     "name": "stdout",
     "output_type": "stream",
     "text": [
      "가장 길이가 긴 문자열 : bcdefg\n"
     ]
    }
   ],
   "source": [
    "# 5.18 (2)\n",
    "max_len = len(s_list[0])\n",
    "max_str = s_list[0]\n",
    "\n",
    "for one in s_list:\n",
    "    if len(one) > max_len:\n",
    "        max_len = len(one)\n",
    "        max_str = one\n",
    "\n",
    "print('가장 길이가 긴 문자열 :', max_str)"
   ],
   "metadata": {
    "collapsed": false
   }
  },
  {
   "cell_type": "code",
   "execution_count": null,
   "outputs": [],
   "source": [
    "# 5.18 (3)\n"
   ],
   "metadata": {
    "collapsed": false
   }
  },
  {
   "cell_type": "code",
   "execution_count": 14,
   "outputs": [],
   "source": [
    "s_list.sort(key=len)"
   ],
   "metadata": {
    "collapsed": false
   }
  },
  {
   "cell_type": "code",
   "execution_count": 15,
   "outputs": [
    {
     "name": "stdout",
     "output_type": "stream",
     "text": [
      "['abc', 'bcd', 'opq', 'abba', 'cddc', 'bcdefg']\n"
     ]
    }
   ],
   "source": [
    "print(s_list)"
   ],
   "metadata": {
    "collapsed": false
   }
  },
  {
   "cell_type": "code",
   "execution_count": 25,
   "outputs": [
    {
     "name": "stdout",
     "output_type": "stream",
     "text": [
      "가장 길이가 짧은 문자열 : 'abc', 'bcd', 'opq'"
     ]
    }
   ],
   "source": [
    "print('가장 길이가 짧은 문자열 :', end=' ')\n",
    "print(\"'{}'\".format(s_list[0]), end='')\n",
    "\n",
    "for i in range(1, len(s_list)-1):\n",
    "    if len(s_list[0]) == len(s_list[i]):\n",
    "        print(\", '{}'\".format(s_list[i]), end='')"
   ],
   "metadata": {
    "collapsed": false
   }
  },
  {
   "cell_type": "code",
   "execution_count": 30,
   "outputs": [
    {
     "name": "stdout",
     "output_type": "stream",
     "text": [
      "가장 길이가 짧은 문자열 : 'abc', 'bcd', 'opq'\n"
     ]
    }
   ],
   "source": [
    "min_count = 0\n",
    "for one in s_list:\n",
    "    if len(s_list[0]) == len(one):\n",
    "        min_count += 1\n",
    "    else:\n",
    "        break\n",
    "\n",
    "s_list = s_list[:min_count]\n",
    "print(\"가장 길이가 짧은 문자열 : '{}'\".format(\"', '\".join(s_list)))"
   ],
   "metadata": {
    "collapsed": false
   }
  },
  {
   "cell_type": "code",
   "execution_count": 2,
   "outputs": [
    {
     "name": "stdout",
     "output_type": "stream",
     "text": [
      "['abc', 'bcd', 'abba', 'cddc', 'opq']\n"
     ]
    }
   ],
   "source": [
    "# 5.19\n",
    "s_list = ['abc', 'bcd', 'abc', 'abba', 'cddc', 'opq', 'opq']\n",
    "new_s_list = []\n",
    "\n",
    "for one in s_list:\n",
    "    if one not in new_s_list:\n",
    "        new_s_list.append(one)\n",
    "\n",
    "print(new_s_list)"
   ],
   "metadata": {
    "collapsed": false
   }
  },
  {
   "cell_type": "code",
   "execution_count": 23,
   "outputs": [
    {
     "name": "stdout",
     "output_type": "stream",
     "text": [
      "a4b2\n",
      "a413\n"
     ]
    }
   ],
   "source": [
    "# 5.20\n",
    "def compress(s):\n",
    "    result = ''\n",
    "    count = 1\n",
    "    prev_ch = ''\n",
    "\n",
    "    for ch in s:\n",
    "        if ch == prev_ch:\n",
    "            count += 1\n",
    "        else:\n",
    "            if prev_ch != '':\n",
    "                result += str(count)\n",
    "            result += ch\n",
    "            count = 1\n",
    "\n",
    "        prev_ch = ch\n",
    "    result += str(count)\n",
    "    return result\n",
    "\n",
    "print(compress('aaaabb'))\n",
    "print(compress('aaaa111'))"
   ],
   "metadata": {
    "collapsed": false
   }
  },
  {
   "cell_type": "code",
   "execution_count": 3,
   "outputs": [
    {
     "data": {
      "text/plain": "'123'"
     },
     "execution_count": 3,
     "metadata": {},
     "output_type": "execute_result"
    }
   ],
   "source": [
    "str(123)"
   ],
   "metadata": {
    "collapsed": false
   }
  },
  {
   "cell_type": "code",
   "execution_count": 5,
   "outputs": [
    {
     "data": {
      "text/plain": "'123234'"
     },
     "execution_count": 5,
     "metadata": {},
     "output_type": "execute_result"
    }
   ],
   "source": [
    "abc = '123' + '234'\n",
    "abc"
   ],
   "metadata": {
    "collapsed": false
   }
  },
  {
   "cell_type": "code",
   "execution_count": 38,
   "outputs": [
    {
     "name": "stdout",
     "output_type": "stream",
     "text": [
      "aabbbcccccc\n"
     ]
    }
   ],
   "source": [
    "# 5.21\n",
    "def decompress(s):\n",
    "    result = ''\n",
    "    for i in range(0,len(s),2):\n",
    "        result += s[i] * int(s[i+1])\n",
    "\n",
    "    return result\n",
    "print(decompress('a2b3c6'))"
   ],
   "metadata": {
    "collapsed": false
   }
  },
  {
   "cell_type": "code",
   "execution_count": 34,
   "outputs": [
    {
     "name": "stdout",
     "output_type": "stream",
     "text": [
      "aa\n"
     ]
    }
   ],
   "source": [
    "print('a' * 2)"
   ],
   "metadata": {
    "collapsed": false
   }
  },
  {
   "cell_type": "code",
   "execution_count": 29,
   "outputs": [
    {
     "name": "stdout",
     "output_type": "stream",
     "text": [
      "4\n"
     ]
    }
   ],
   "source": [
    "a = 'a2b3'\n",
    "print(len(a))"
   ],
   "metadata": {
    "collapsed": false
   }
  },
  {
   "cell_type": "code",
   "execution_count": 70,
   "outputs": [
    {
     "name": "stdout",
     "output_type": "stream",
     "text": [
      "1 2 3 4 5 6 7 8 9 10 \n",
      "20 19 18 17 16 15 14 13 12 11 \n",
      "21 22 23 24 25 26 27 28 29 30 \n",
      "40 39 38 37 36 35 34 33 32 31 \n",
      "41 42 43 44 45 46 47 48 49 50 \n",
      "60 59 58 57 56 55 54 53 52 51 \n",
      "61 62 63 64 65 66 67 68 69 70 \n",
      "80 79 78 77 76 75 74 73 72 71 \n",
      "81 82 83 84 85 86 87 88 89 90 \n",
      "100 99 98 97 96 95 94 93 92 91 \n"
     ]
    }
   ],
   "source": [
    "# 5.22 (1)\n",
    "def print_n_matrix(n):\n",
    "    for i in range(n):\n",
    "        for j in range(n):\n",
    "            if i % 2 == 0:\n",
    "                print(i*n + j + 1, end=' ')\n",
    "            else:\n",
    "                print(i*n + n - j, end=' ')\n",
    "        print()\n",
    "\n",
    "print_n_matrix(10)"
   ],
   "metadata": {
    "collapsed": false
   }
  },
  {
   "cell_type": "code",
   "execution_count": 95,
   "outputs": [
    {
     "name": "stdout",
     "output_type": "stream",
     "text": [
      "[1, 2, 3, 4, 5, 6]\n",
      "[7, 8, 9, 10, 11, 12]\n",
      "[13, 14, 15, 16, 17, 18]\n",
      "[19, 20, 21, 22, 23, 24]\n",
      "[25, 26, 27, 28, 29, 30]\n",
      "[31, 32, 33, 34, 35, 36]\n"
     ]
    }
   ],
   "source": [
    "# 5.22 (2)_리스트 슬라이싱 활용O\n",
    "def print_n_matrix2(n):\n",
    "    l = list(range(1, n*n+1))\n",
    "    for i in range(n):\n",
    "        if\n",
    "            print(l[i*n:(i+1)*n])\n",
    "\n",
    "print_n_matrix2(6)"
   ],
   "metadata": {
    "collapsed": false
   }
  },
  {
   "cell_type": "code",
   "execution_count": 82,
   "outputs": [
    {
     "name": "stdout",
     "output_type": "stream",
     "text": [
      "[1, 2, 3, 4, 5, 6, 7, 8, 9, 10, 11, 12, 13, 14, 15, 16, 17, 18, 19, 20, 21, 22, 23, 24, 25]\n",
      "[1, 2, 3, 4, 5]\n",
      "[6, 7, 8, 9, 10]\n",
      "[11, 12, 13, 14, 15]\n"
     ]
    }
   ],
   "source": [
    "l = list(range(1, 5*5+1))\n",
    "print(l)\n",
    "\n",
    "print(l[0:5])\n",
    "print(l[5:10])\n",
    "print(l[10:15])\n"
   ],
   "metadata": {
    "collapsed": false
   }
  },
  {
   "cell_type": "code",
   "execution_count": 97,
   "outputs": [
    {
     "data": {
      "text/plain": "14"
     },
     "execution_count": 97,
     "metadata": {},
     "output_type": "execute_result"
    }
   ],
   "source": [
    "def make_m_matrix(n):\n",
    "    result = list()\n",
    "    for i in range(n):\n",
    "        if i % 2 == 0:\n",
    "            result.append(list(range(i*n+1, (i+1)*n+1)))\n",
    "        else:\n",
    "            result.append(list(range((i+1)*n, i*n, -1)))\n",
    "    return result\n",
    "\n",
    "ll = make_m_matrix(5)\n",
    "ll[2][3]"
   ],
   "metadata": {
    "collapsed": false
   }
  },
  {
   "cell_type": "code",
   "execution_count": 104,
   "outputs": [
    {
     "name": "stdout",
     "output_type": "stream",
     "text": [
      "[['온달', 20, 1, 180.0, 100.0], ['평강', 22, 0, 169.0, 60.0], ['혁거세', 40, 1, 150.0, 50.0]]\n",
      "3\n"
     ]
    }
   ],
   "source": [
    "# 5.23 (1)\n",
    "person1 = ['온달', 20, 1, 180.0, 100.0]\n",
    "person2 = ['이사부', 25, 1, 170.0, 70.0]\n",
    "person3 = ['평강', 22, 0, 169.0, 60.0]\n",
    "person4 = ['혁거세', 40, 1, 150.0, 50.0]\n",
    "\n",
    "person_list = list((person1, person3, person4))\n",
    "print(person_list)\n",
    "print(len(person_list))\n",
    "# ['온달', 20, 1, 180.0, 100.0, '평강', 22, 0, 169.0, 60.0, '혁거세', 40, 1, 150.0, 50.0]"
   ],
   "metadata": {
    "collapsed": false
   }
  },
  {
   "cell_type": "code",
   "execution_count": 105,
   "outputs": [
    {
     "data": {
      "text/plain": "20"
     },
     "execution_count": 105,
     "metadata": {},
     "output_type": "execute_result"
    }
   ],
   "source": [
    "person_list[1][1]"
   ],
   "metadata": {
    "collapsed": false
   }
  },
  {
   "cell_type": "code",
   "execution_count": 106,
   "outputs": [],
   "source": [
    "p_list = list()\n",
    "p_list.append(person1)"
   ],
   "metadata": {
    "collapsed": false
   }
  },
  {
   "cell_type": "code",
   "execution_count": 117,
   "outputs": [
    {
     "name": "stdout",
     "output_type": "stream",
     "text": [
      "True\n"
     ]
    }
   ],
   "source": [
    "# 5.24\n",
    "def get_factor(n):\n",
    "    factor_list = []\n",
    "    for i in range(1,n):\n",
    "        if n % i == 0:\n",
    "            factor_list.append(i)\n",
    "    return factor_list\n",
    "\n",
    "def is_perfect_number(n):\n",
    "    if sum(get_factor(n)) == n:\n",
    "        return True\n",
    "    else:\n",
    "        return False\n",
    "\n",
    "print(is_perfect_number(28))"
   ],
   "metadata": {
    "collapsed": false
   }
  },
  {
   "cell_type": "code",
   "execution_count": null,
   "outputs": [],
   "source": [],
   "metadata": {
    "collapsed": false
   }
  }
 ],
 "metadata": {
  "kernelspec": {
   "display_name": "Python 3",
   "language": "python",
   "name": "python3"
  },
  "language_info": {
   "codemirror_mode": {
    "name": "ipython",
    "version": 2
   },
   "file_extension": ".py",
   "mimetype": "text/x-python",
   "name": "python",
   "nbconvert_exporter": "python",
   "pygments_lexer": "ipython2",
   "version": "2.7.6"
  }
 },
 "nbformat": 4,
 "nbformat_minor": 0
}
