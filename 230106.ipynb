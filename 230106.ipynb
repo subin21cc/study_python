{
 "cells": [
  {
   "cell_type": "code",
   "execution_count": 19,
   "metadata": {
    "collapsed": true
   },
   "outputs": [
    {
     "name": "stdout",
     "output_type": "stream",
     "text": [
      "   *\n",
      "  ***\n",
      " *****\n"
     ]
    }
   ],
   "source": [
    "# 반복문 연습_1\n",
    "# 마름모의 높이를 입력받아 마름모를 출력\n",
    "height = int(input('마름모의 높이를 입력하시오 :'))\n",
    "'''\n",
    "if height % 2 == 0:\n",
    "    height = height - 1\n",
    "'''\n",
    "height -= 1 if height % 2 == 0 else 0\n",
    "for i in range(height):\n",
    "    if i <= (height // 2):\n",
    "        print(' ' * (height // 2 - i),'*' * (i * 2 + 1))\n",
    "    else:\n",
    "        print(' ' * (i - height // 2), '*' * (i * 2))"
   ]
  },
  {
   "cell_type": "code",
   "execution_count": 6,
   "outputs": [
    {
     "name": "stdout",
     "output_type": "stream",
     "text": [
      "**********\n"
     ]
    }
   ],
   "source": [
    "print('*'*10)"
   ],
   "metadata": {
    "collapsed": false
   }
  },
  {
   "cell_type": "code",
   "execution_count": null,
   "outputs": [],
   "source": [],
   "metadata": {
    "collapsed": false
   }
  }
 ],
 "metadata": {
  "kernelspec": {
   "display_name": "Python 3",
   "language": "python",
   "name": "python3"
  },
  "language_info": {
   "codemirror_mode": {
    "name": "ipython",
    "version": 2
   },
   "file_extension": ".py",
   "mimetype": "text/x-python",
   "name": "python",
   "nbconvert_exporter": "python",
   "pygments_lexer": "ipython2",
   "version": "2.7.6"
  }
 },
 "nbformat": 4,
 "nbformat_minor": 0
}
