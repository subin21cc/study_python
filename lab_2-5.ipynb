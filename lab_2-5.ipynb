{
 "cells": [
  {
   "cell_type": "code",
   "execution_count": 1,
   "metadata": {
    "collapsed": true
   },
   "outputs": [
    {
     "name": "stdout",
     "output_type": "stream",
     "text": [
      "300\n"
     ]
    }
   ],
   "source": [
    "# 1\n",
    "age = 300\n",
    "print(age)\n",
    "# global은 키워드라서 변수로 사용 불가능하다."
   ]
  },
  {
   "cell_type": "code",
   "execution_count": 2,
   "outputs": [
    {
     "name": "stdout",
     "output_type": "stream",
     "text": [
      "사각형의 면적 800\n"
     ]
    }
   ],
   "source": [
    "# 2\n",
    "width = 20\n",
    "height = 40\n",
    "area = (width * height)\n",
    "print('사각형의 면적', area)\n",
    "# 변수명(식별자)은 대소문자를 구분한다."
   ],
   "metadata": {
    "collapsed": false
   }
  },
  {
   "cell_type": "code",
   "execution_count": 3,
   "outputs": [
    {
     "name": "stdout",
     "output_type": "stream",
     "text": [
      "나의 나이는 20 세 입니다.\n"
     ]
    }
   ],
   "source": [
    "# 3\n",
    "age = 20\n",
    "print('나의 나이는', age, '세 입니다.')\n",
    "# 변수는 의미를 알아볼 수 있도록 정의해야 한다."
   ],
   "metadata": {
    "collapsed": false
   }
  },
  {
   "cell_type": "code",
   "execution_count": 11,
   "outputs": [
    {
     "name": "stdout",
     "output_type": "stream",
     "text": [
      "3\n"
     ]
    }
   ],
   "source": [
    "# 4\n",
    "v1 = 1\n",
    "v2 = 2\n",
    "thisisaverylongvariablename = v1 + v2\n",
    "print(thisisaverylongvariablename)\n",
    "# 변수는 의미를 알아볼 수 있도록 정의해야 한다."
   ],
   "metadata": {
    "collapsed": false,
    "pycharm": {
     "name": "#%% \n"
    }
   }
  },
  {
   "cell_type": "code",
   "execution_count": 5,
   "outputs": [
    {
     "name": "stdout",
     "output_type": "stream",
     "text": [
      "삼각형의 면적은  100.0\n"
     ]
    }
   ],
   "source": [
    "# 5\n",
    "radius = 20\n",
    "depth = 10\n",
    "final_length = 0.5 * radius * depth\n",
    "print('삼각형의 면적은 ', final_length)"
   ],
   "metadata": {
    "collapsed": false
   }
  },
  {
   "cell_type": "code",
   "execution_count": 6,
   "outputs": [
    {
     "name": "stdout",
     "output_type": "stream",
     "text": [
      "삼각형의 면적은  100.0\n"
     ]
    }
   ],
   "source": [
    "# 5\n",
    "height = 20\n",
    "width = 10\n",
    "area = 0.5 * height * width\n",
    "print('삼각형의 면적은 ', area)"
   ],
   "metadata": {
    "collapsed": false
   }
  },
  {
   "cell_type": "code",
   "execution_count": 7,
   "outputs": [
    {
     "ename": "SyntaxError",
     "evalue": "invalid syntax (4200819962.py, line 2)",
     "output_type": "error",
     "traceback": [
      "\u001B[0;36m  Cell \u001B[0;32mIn[7], line 2\u001B[0;36m\u001B[0m\n\u001B[0;31m    1st_year = 30\u001B[0m\n\u001B[0m     ^\u001B[0m\n\u001B[0;31mSyntaxError\u001B[0m\u001B[0;31m:\u001B[0m invalid syntax\n"
     ]
    }
   ],
   "source": [
    "# 6\n",
    "1st_year = 30\n",
    "2nd_year = 30\n",
    "3rd_year = 16\n",
    "all_years+ = 1st_year + 2nd_year + 3rd_year\n",
    "print(all_years+)\n"
   ],
   "metadata": {
    "collapsed": false
   }
  },
  {
   "cell_type": "code",
   "execution_count": 8,
   "outputs": [
    {
     "name": "stdout",
     "output_type": "stream",
     "text": [
      "76\n"
     ]
    }
   ],
   "source": [
    "# 6\n",
    "First_year = 30\n",
    "Second_year = 30\n",
    "Third_year = 16\n",
    "all_years = First_year + Second_year + Third_year\n",
    "print(all_years)\n"
   ],
   "metadata": {
    "collapsed": false
   }
  },
  {
   "cell_type": "code",
   "execution_count": null,
   "outputs": [],
   "source": [],
   "metadata": {
    "collapsed": false
   }
  }
 ],
 "metadata": {
  "kernelspec": {
   "display_name": "Python 3",
   "language": "python",
   "name": "python3"
  },
  "language_info": {
   "codemirror_mode": {
    "name": "ipython",
    "version": 2
   },
   "file_extension": ".py",
   "mimetype": "text/x-python",
   "name": "python",
   "nbconvert_exporter": "python",
   "pygments_lexer": "ipython2",
   "version": "2.7.6"
  }
 },
 "nbformat": 4,
 "nbformat_minor": 0
}
