{
 "cells": [
  {
   "cell_type": "code",
   "execution_count": 1,
   "metadata": {
    "collapsed": true
   },
   "outputs": [
    {
     "name": "stdout",
     "output_type": "stream",
     "text": [
      "1에서 10꺄지의 합 : 55\n"
     ]
    }
   ],
   "source": [
    "# 25\n",
    "s = 0\n",
    "for i in range(1, 11):\n",
    "    s = s + i\n",
    "print('1에서 10꺄지의 합 :', s)"
   ]
  },
  {
   "cell_type": "code",
   "execution_count": 4,
   "outputs": [
    {
     "name": "stdout",
     "output_type": "stream",
     "text": [
      "4 3 2 1 0 "
     ]
    }
   ],
   "source": [
    "# 39\n",
    "n = 5\n",
    "for i in range(n):\n",
    "    print(n - (i + 1), end = ' ')"
   ],
   "metadata": {
    "collapsed": false
   }
  },
  {
   "cell_type": "code",
   "execution_count": 5,
   "outputs": [
    {
     "name": "stdout",
     "output_type": "stream",
     "text": [
      "1 3 5 7 9 "
     ]
    }
   ],
   "source": [
    "# 40\n",
    "n = 5\n",
    "for i in range(n):\n",
    "    print(2 * i + 1, end = ' ')"
   ],
   "metadata": {
    "collapsed": false
   }
  },
  {
   "cell_type": "code",
   "execution_count": 7,
   "outputs": [
    {
     "name": "stdout",
     "output_type": "stream",
     "text": [
      "P\n",
      "r\n",
      "The end\n"
     ]
    }
   ],
   "source": [
    "# 50\n",
    "st = 'Programming'\n",
    "for ch in st:\n",
    "    if ch in ['a', 'e', 'i', 'o', 'u']:\n",
    "        break\n",
    "    print(ch)\n",
    "\n",
    "print('The end')"
   ],
   "metadata": {
    "collapsed": false
   }
  },
  {
   "cell_type": "code",
   "execution_count": 8,
   "outputs": [
    {
     "name": "stdout",
     "output_type": "stream",
     "text": [
      "P\n",
      "r\n",
      "g\n",
      "r\n",
      "m\n",
      "m\n",
      "n\n",
      "g\n",
      "The end\n"
     ]
    }
   ],
   "source": [
    "# 51\n",
    "st = 'Programming'\n",
    "\n",
    "for ch in st:\n",
    "    if ch in ['a', 'e', 'i', 'o', 'u']:\n",
    "        continue\n",
    "    print(ch)\n",
    "\n",
    "print('The end')"
   ],
   "metadata": {
    "collapsed": false
   }
  },
  {
   "cell_type": "code",
   "execution_count": null,
   "outputs": [],
   "source": [],
   "metadata": {
    "collapsed": false
   }
  }
 ],
 "metadata": {
  "kernelspec": {
   "display_name": "Python 3",
   "language": "python",
   "name": "python3"
  },
  "language_info": {
   "codemirror_mode": {
    "name": "ipython",
    "version": 2
   },
   "file_extension": ".py",
   "mimetype": "text/x-python",
   "name": "python",
   "nbconvert_exporter": "python",
   "pygments_lexer": "ipython2",
   "version": "2.7.6"
  }
 },
 "nbformat": 4,
 "nbformat_minor": 0
}
