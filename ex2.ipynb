{
 "cells": [
  {
   "cell_type": "code",
   "execution_count": 2,
   "metadata": {
    "collapsed": true
   },
   "outputs": [
    {
     "name": "stdout",
     "output_type": "stream",
     "text": [
      "100 + 200 = 300\n",
      "200 + 300 + 400 = 900\n"
     ]
    }
   ],
   "source": [
    "# 1\n",
    "print(100, '+', 200, '=', 100 + 200)\n",
    "print(200, '+', 300, '+', 400, '=', 200 + 300 + 400)"
   ]
  },
  {
   "cell_type": "code",
   "execution_count": 3,
   "outputs": [
    {
     "name": "stdout",
     "output_type": "stream",
     "text": [
      "30\n",
      "60\n"
     ]
    }
   ],
   "source": [
    "# 2\n",
    "width = 30\n",
    "height = 60\n",
    "print(width)\n",
    "print(height)"
   ],
   "metadata": {
    "collapsed": false
   }
  },
  {
   "cell_type": "code",
   "execution_count": 4,
   "outputs": [
    {
     "name": "stdout",
     "output_type": "stream",
     "text": [
      "사각형의 면적 :  1800\n"
     ]
    }
   ],
   "source": [
    "# 3\n",
    "width = 30\n",
    "height = 60\n",
    "area = width * height\n",
    "print('사각형의 면적 : ', area)"
   ],
   "metadata": {
    "collapsed": false
   }
  },
  {
   "cell_type": "code",
   "execution_count": 7,
   "outputs": [
    {
     "name": "stdout",
     "output_type": "stream",
     "text": [
      "삼각형의 면적 :  400\n"
     ]
    }
   ],
   "source": [
    "# 4\n",
    "width = 40\n",
    "height = 20\n",
    "area = width * height // 2\n",
    "print('삼각형의 면적 : ', area)"
   ],
   "metadata": {
    "collapsed": false
   }
  },
  {
   "cell_type": "code",
   "execution_count": 9,
   "outputs": [
    {
     "name": "stdout",
     "output_type": "stream",
     "text": [
      "정사각형의 면적 :  100\n"
     ]
    }
   ],
   "source": [
    "# 5\n",
    "width = int(input('정사각형의 밑변을 입력하시오 : '))\n",
    "area = width **2\n",
    "print('정사각형의 면적 : ', area)"
   ],
   "metadata": {
    "collapsed": false
   }
  },
  {
   "cell_type": "code",
   "execution_count": 12,
   "outputs": [
    {
     "name": "stdout",
     "output_type": "stream",
     "text": [
      "1에서 10까지의 합 : 55\n"
     ]
    }
   ],
   "source": [
    "# 6\n",
    "print('1에서 10까지의 합 :', 1 + 2 + 3 + 4 + 5 + 6 + 7 + 8 + 9 + 10)"
   ],
   "metadata": {
    "collapsed": false
   }
  },
  {
   "cell_type": "code",
   "execution_count": 13,
   "outputs": [
    {
     "name": "stdout",
     "output_type": "stream",
     "text": [
      "10! : 3628800\n"
     ]
    }
   ],
   "source": [
    "# 7\n",
    "print('10! :', 1 * 2 * 3 * 4 * 5 * 6 * 7 * 8 * 9 * 10)"
   ],
   "metadata": {
    "collapsed": false
   }
  },
  {
   "cell_type": "code",
   "execution_count": 15,
   "outputs": [
    {
     "name": "stdout",
     "output_type": "stream",
     "text": [
      "섭씨 30 도는 화씨 86.0 도 입니다.\n"
     ]
    }
   ],
   "source": [
    "# 10\n",
    "celsius = int(input('섭씨온도를 입력하세요 :'))\n",
    "fahrenheit = (9/5) * celsius + 32\n",
    "print('섭씨', celsius, '도는 화씨', fahrenheit, '도 입니다.')"
   ],
   "metadata": {
    "collapsed": false
   }
  },
  {
   "cell_type": "code",
   "execution_count": 19,
   "outputs": [
    {
     "name": "stdout",
     "output_type": "stream",
     "text": [
      "0b101 & 0b110 = 0b100\n",
      "0b101 | 0b110 = 0b111\n",
      "0b101 ^ 0b110 = 0b11\n"
     ]
    }
   ],
   "source": [
    "# 20\n",
    "print(bin(5), '&', bin(6), '=', bin(5 & 6))\n",
    "print(bin(5), '|', bin(6), '=', bin(5 | 6))\n",
    "print(bin(5), '^', bin(6), '=', bin(5 ^ 6))"
   ],
   "metadata": {
    "collapsed": false
   }
  },
  {
   "cell_type": "code",
   "execution_count": 21,
   "outputs": [
    {
     "name": "stdout",
     "output_type": "stream",
     "text": [
      "9 의 2진수의 값 : 0b1001\n",
      "9 의 2진수 값에 대한 비트단위 부정값 : -0b1010\n"
     ]
    }
   ],
   "source": [
    "# 21\n",
    "num = int(input('정수를 입력하시오 :'))\n",
    "print(num, '의 2진수의 값 :', bin(num))\n",
    "print(num, '의 2진수 값에 대한 비트단위 부정값 :', bin(~num))"
   ],
   "metadata": {
    "collapsed": false
   }
  },
  {
   "cell_type": "code",
   "execution_count": 22,
   "outputs": [
    {
     "name": "stdout",
     "output_type": "stream",
     "text": [
      "a / b의 몫 : 4\n",
      "a / b의 나머지 : 2\n"
     ]
    }
   ],
   "source": [
    "# 22\n",
    "a = int(input('정수 a를 입력하시오 :'))\n",
    "b = int(input('정수 b를 입력하시오 :'))\n",
    "print('a / b의 몫 :', a // b)\n",
    "print('a / b의 나머지 :', a % b)"
   ],
   "metadata": {
    "collapsed": false
   }
  },
  {
   "cell_type": "code",
   "execution_count": 25,
   "outputs": [
    {
     "name": "stdout",
     "output_type": "stream",
     "text": [
      "백의 자리 : 3\n",
      "십의 자리 : 4\n",
      "일의 자리 : 9\n"
     ]
    }
   ],
   "source": [
    "# 23\n",
    "num = int(input('세 자리 정수를 입력하세오 :'))\n",
    "print('백의 자리 :', num // 100)\n",
    "print('십의 자리 :', num % 100 // 10)\n",
    "print('일의 자리 :', num % 10)"
   ],
   "metadata": {
    "collapsed": false
   }
  },
  {
   "cell_type": "code",
   "execution_count": null,
   "outputs": [],
   "source": [],
   "metadata": {
    "collapsed": false
   }
  }
 ],
 "metadata": {
  "kernelspec": {
   "display_name": "Python 3",
   "language": "python",
   "name": "python3"
  },
  "language_info": {
   "codemirror_mode": {
    "name": "ipython",
    "version": 2
   },
   "file_extension": ".py",
   "mimetype": "text/x-python",
   "name": "python",
   "nbconvert_exporter": "python",
   "pygments_lexer": "ipython2",
   "version": "2.7.6"
  }
 },
 "nbformat": 4,
 "nbformat_minor": 0
}
