{
 "cells": [
  {
   "cell_type": "code",
   "execution_count": 2,
   "metadata": {
    "collapsed": true
   },
   "outputs": [
    {
     "name": "stdout",
     "output_type": "stream",
     "text": [
      "10 과 20 의 합은 30 입니다.\n",
      "100 과 200 의 합은 300 입니다.\n"
     ]
    }
   ],
   "source": [
    "# 4-7\n",
    "def print_sum(a, b):\n",
    "    result = a + b\n",
    "    print(a, '과', b, '의 합은', result, '입니다.')\n",
    "\n",
    "print_sum(10, 20)\n",
    "print_sum(100, 200)"
   ]
  },
  {
   "cell_type": "code",
   "execution_count": 4,
   "outputs": [
    {
     "name": "stdout",
     "output_type": "stream",
     "text": [
      "해는 2.0 또는 -4.0\n"
     ]
    }
   ],
   "source": [
    "# 4-8\n",
    "a = 1\n",
    "b = 2\n",
    "c = -8\n",
    "\n",
    "r1 = (-b + (b ** 2 - 4 * a * c) ** 0.5) / (2 * a)\n",
    "r2 = (-b - (b ** 2 - 4 * a * c) ** 0.5) / (2 * a)\n",
    "\n",
    "print('해는', r1, '또는', r2)"
   ],
   "metadata": {
    "collapsed": false
   }
  },
  {
   "cell_type": "code",
   "execution_count": 7,
   "outputs": [
    {
     "name": "stdout",
     "output_type": "stream",
     "text": [
      "해는 2.0 또는 -4.0\n",
      "해는 4.0 또는 -1.0\n"
     ]
    }
   ],
   "source": [
    "# 4-10\n",
    "def print_root(a, b, c):\n",
    "    r1 = (-b + (b ** 2 - 4 * a * c) ** 0.5) / (2 * a)\n",
    "    r2 = (-b - (b ** 2 - 4 * a * c) ** 0.5) / (2 * a)\n",
    "    print('해는', r1, '또는', r2)\n",
    "\n",
    "print_root(1, 2, -8)\n",
    "print_root(2, -6, -8)"
   ],
   "metadata": {
    "collapsed": false
   }
  },
  {
   "cell_type": "code",
   "execution_count": 9,
   "outputs": [
    {
     "name": "stdout",
     "output_type": "stream",
     "text": [
      "10과 20의 합 = 30\n"
     ]
    }
   ],
   "source": [
    "# 4-11\n",
    "def get_sum(a, b):\n",
    "    result = a + b\n",
    "    return result\n",
    "\n",
    "n1 = get_sum(10, 20)\n",
    "print('10과 20의 합 =', n1)\n",
    "\n"
   ],
   "metadata": {
    "collapsed": false
   }
  },
  {
   "cell_type": "code",
   "execution_count": 10,
   "outputs": [
    {
     "name": "stdout",
     "output_type": "stream",
     "text": [
      "30\n"
     ]
    }
   ],
   "source": [
    "a,b = map(int, input('두 정수를 입력하시오 :').split())\n",
    "print(get_sum(a, b))"
   ],
   "metadata": {
    "collapsed": false
   }
  },
  {
   "cell_type": "code",
   "execution_count": 12,
   "outputs": [
    {
     "name": "stdout",
     "output_type": "stream",
     "text": [
      "10 20\n",
      "print_sum() 내부 : 100 과 200 의 합은 300 입니다.\n",
      "10 20\n"
     ]
    }
   ],
   "source": [
    "# 4-15\n",
    "# 함수 외부에서 정의된 값을 함수 내부에서 변경하는 경우\n",
    "def print_sum():\n",
    "    a = 100\n",
    "    b = 200\n",
    "    result = a + b\n",
    "    print('print_sum() 내부 :', a, '과', b, '의 합은', result, '입니다.')\n",
    "\n",
    "a = 10\n",
    "b = 20\n",
    "print(a, b)\n",
    "print_sum()\n",
    "print(a, b)"
   ],
   "metadata": {
    "collapsed": false
   }
  },
  {
   "cell_type": "code",
   "execution_count": 13,
   "outputs": [
    {
     "name": "stdout",
     "output_type": "stream",
     "text": [
      "10 20\n",
      "print_sum() 내부 : 100 과 200 의 합은 300 입니다.\n",
      "100 200\n"
     ]
    }
   ],
   "source": [
    "# 4-15\n",
    "# 함수 외부에서 정의된 값을 함수 내부에서 변경하는 경우\n",
    "def print_sum():\n",
    "    global a, b\n",
    "    a = 100\n",
    "    b = 200\n",
    "    result = a + b\n",
    "    print('print_sum() 내부 :', a, '과', b, '의 합은', result, '입니다.')\n",
    "\n",
    "a = 10\n",
    "b = 20\n",
    "print(a, b)\n",
    "print_sum()\n",
    "print(a, b)"
   ],
   "metadata": {
    "collapsed": false
   }
  },
  {
   "cell_type": "code",
   "execution_count": null,
   "outputs": [],
   "source": [],
   "metadata": {
    "collapsed": false
   }
  }
 ],
 "metadata": {
  "kernelspec": {
   "display_name": "Python 3",
   "language": "python",
   "name": "python3"
  },
  "language_info": {
   "codemirror_mode": {
    "name": "ipython",
    "version": 2
   },
   "file_extension": ".py",
   "mimetype": "text/x-python",
   "name": "python",
   "nbconvert_exporter": "python",
   "pygments_lexer": "ipython2",
   "version": "2.7.6"
  }
 },
 "nbformat": 4,
 "nbformat_minor": 0
}
