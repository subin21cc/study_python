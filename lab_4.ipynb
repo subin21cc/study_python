{
 "cells": [
  {
   "cell_type": "code",
   "execution_count": 1,
   "metadata": {
    "collapsed": true
   },
   "outputs": [
    {
     "name": "stdout",
     "output_type": "stream",
     "text": [
      "**********\n",
      "**********\n",
      "**********\n",
      "**********\n",
      "**********\n",
      "**********\n",
      "**********\n",
      "**********\n",
      "**********\n",
      "**********\n"
     ]
    }
   ],
   "source": [
    "# 4-4-1\n",
    "def print_star(n):\n",
    "    for _ in range(n):\n",
    "        print('**********')\n",
    "\n",
    "print_star(10)"
   ]
  },
  {
   "cell_type": "code",
   "execution_count": 2,
   "outputs": [
    {
     "name": "stdout",
     "output_type": "stream",
     "text": [
      "##########\n",
      "##########\n",
      "##########\n",
      "##########\n",
      "##########\n",
      "##########\n",
      "##########\n",
      "##########\n",
      "##########\n",
      "##########\n"
     ]
    }
   ],
   "source": [
    "# 4-4-2\n",
    "def print_hash(n):\n",
    "    for _ in range(n):\n",
    "        print('##########')\n",
    "\n",
    "print_hash(10)"
   ],
   "metadata": {
    "collapsed": false
   }
  },
  {
   "cell_type": "code",
   "execution_count": 5,
   "outputs": [
    {
     "name": "stdout",
     "output_type": "stream",
     "text": [
      "0 ##########\n",
      "1 ##########\n",
      "2 ##########\n",
      "3 ##########\n",
      "4 ##########\n",
      "5 ##########\n"
     ]
    }
   ],
   "source": [
    "# 4-4-3\n",
    "def print_hash(n):\n",
    "    for i in range(n):\n",
    "        print(i, '##########')\n",
    "\n",
    "print_hash(6)"
   ],
   "metadata": {
    "collapsed": false
   }
  },
  {
   "cell_type": "code",
   "execution_count": 6,
   "outputs": [
    {
     "name": "stdout",
     "output_type": "stream",
     "text": [
      "10 과 20 의 차는 -10 입니다.\n"
     ]
    }
   ],
   "source": [
    "# 4-5-1\n",
    "def print_sub(a, b):\n",
    "    result = a - b\n",
    "    print(a, '과', b, '의 차는', result, '입니다.')\n",
    "\n",
    "print_sub(10, 20)"
   ],
   "metadata": {
    "collapsed": false
   }
  },
  {
   "cell_type": "code",
   "execution_count": 7,
   "outputs": [
    {
     "name": "stdout",
     "output_type": "stream",
     "text": [
      "10 과 20 의 곱은 200 입니다.\n"
     ]
    }
   ],
   "source": [
    "# 4-5-2\n",
    "def print_mult(a, b):\n",
    "    result = a * b\n",
    "    print(a, '과', b, '의 곱은', result, '입니다.')\n",
    "\n",
    "print_mult(10, 20)"
   ],
   "metadata": {
    "collapsed": false
   }
  },
  {
   "cell_type": "code",
   "execution_count": 8,
   "outputs": [
    {
     "name": "stdout",
     "output_type": "stream",
     "text": [
      "해는 3.0 또는 -7.0\n",
      "해는 4.0 또는 2.0\n"
     ]
    }
   ],
   "source": [
    "# 4-6-1\n",
    "def print_root(a, b, c):\n",
    "    r1 = (-b + (b ** 2 - 4 * a * c) ** 0.5) / (2 * a)\n",
    "    r2 = (-b - (b ** 2 - 4 * a * c) ** 0.5) / (2 * a)\n",
    "    print('해는', r1, '또는', r2)\n",
    "\n",
    "print_root(1, 4, -21)\n",
    "print_root(1, -6, 8)"
   ],
   "metadata": {
    "collapsed": false
   }
  },
  {
   "cell_type": "code",
   "execution_count": 13,
   "outputs": [
    {
     "name": "stdout",
     "output_type": "stream",
     "text": [
      "밑변 10 , 높이 20 인 삼각형의 면적은 : 100.0\n"
     ]
    }
   ],
   "source": [
    "# 4-6-2\n",
    "def print_area(width, height):\n",
    "    result = 0.5 * width * height\n",
    "    print('밑변', width,', 높이', height, '인 삼각형의 면적은 :', result)\n",
    "\n",
    "print_area(10, 20)"
   ],
   "metadata": {
    "collapsed": false
   }
  },
  {
   "cell_type": "code",
   "execution_count": null,
   "outputs": [],
   "source": [],
   "metadata": {
    "collapsed": false
   }
  }
 ],
 "metadata": {
  "kernelspec": {
   "display_name": "Python 3",
   "language": "python",
   "name": "python3"
  },
  "language_info": {
   "codemirror_mode": {
    "name": "ipython",
    "version": 2
   },
   "file_extension": ".py",
   "mimetype": "text/x-python",
   "name": "python",
   "nbconvert_exporter": "python",
   "pygments_lexer": "ipython2",
   "version": "2.7.6"
  }
 },
 "nbformat": 4,
 "nbformat_minor": 0
}
